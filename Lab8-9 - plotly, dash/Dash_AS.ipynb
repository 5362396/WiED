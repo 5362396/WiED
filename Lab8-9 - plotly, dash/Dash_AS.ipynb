{
 "cells": [
  {
   "cell_type": "code",
   "execution_count": 1,
   "id": "initial_id",
   "metadata": {
    "collapsed": true,
    "ExecuteTime": {
     "end_time": "2024-05-09T11:34:33.051351100Z",
     "start_time": "2024-05-09T11:34:31.687832600Z"
    }
   },
   "outputs": [],
   "source": [
    "import dash\n",
    "import plotly.express as px\n",
    "import plotly.graph_objects as go\n",
    "from dash import dcc, html\n",
    "from dash.dependencies import Input, Output"
   ]
  },
  {
   "cell_type": "code",
   "outputs": [],
   "source": [
    "app = dash.Dash()\n",
    "df = px.data.stocks()\n",
    "\n",
    "# def stock_prices():\n",
    "#   fig = go.Figure([go.Scatter(x=df['date'], y=df['GOOG'], line=dict(color='firebrick', width=4), name='Google')])\n",
    "#   fig.update_layout(title='Prices over time', xaxis_title='Dates', yaxis_title='Prices')\n",
    "#   return fig\n",
    "\n",
    "app.layout = html.Div(id='parent', children=[\n",
    "        html.H1(id='H1', children='Styling using html components', style={'textAlign':'center', 'marginTop':40, 'marginBottom':40}),\n",
    "            dcc.Dropdown(\n",
    "                id='dropdown',\n",
    "                options=[\n",
    "                    {'label': 'Google', 'value':'GOOG'},\n",
    "                    {'label': 'Apple', 'value':'AAPL'},\n",
    "                    {'label': 'Amazon', 'value':'AMZN'},\n",
    "                ],\n",
    "                value = 'GOOGL'\n",
    "            ),\n",
    "            dcc.Graph(id='line_plot')\n",
    "    ])"
   ],
   "metadata": {
    "collapsed": false,
    "ExecuteTime": {
     "end_time": "2024-05-09T11:34:33.459994200Z",
     "start_time": "2024-05-09T11:34:33.052416900Z"
    }
   },
   "id": "f1a811184001322b",
   "execution_count": 2
  },
  {
   "cell_type": "code",
   "outputs": [],
   "source": [
    "@app.callback(Output(component_id='line_plot', component_property= 'figure'),\n",
    "              [Input(component_id='dropdown', component_property= 'value')])\n",
    "def graph_update(dropdown_value):\n",
    "    print(dropdown_value)\n",
    "    fig = go.Figure([go.Scatter(x=df['date'], y=df['{}'.format(dropdown_value)],\n",
    "                                line = dict(color='firebrick', width=4))\n",
    "                    ])\n",
    "    fig.update_layout(title='Stock prices over time',\n",
    "                      xaxis_title='Dates',\n",
    "                      yaxis_title='Prices')\n",
    "    return fig"
   ],
   "metadata": {
    "collapsed": false,
    "ExecuteTime": {
     "end_time": "2024-05-09T11:34:33.506632700Z",
     "start_time": "2024-05-09T11:34:33.475255300Z"
    }
   },
   "id": "8b643a47c0c6ead8",
   "execution_count": 4
  },
  {
   "cell_type": "code",
   "outputs": [
    {
     "data": {
      "text/plain": "<IPython.lib.display.IFrame at 0x2627efb0650>",
      "text/html": "\n        <iframe\n            width=\"100%\"\n            height=\"650\"\n            src=\"http://127.0.0.1:8050/\"\n            frameborder=\"0\"\n            allowfullscreen\n            \n        ></iframe>\n        "
     },
     "metadata": {},
     "output_type": "display_data"
    }
   ],
   "source": [
    "if __name__ == '__main__':\n",
    "    app.run_server()"
   ],
   "metadata": {
    "collapsed": false,
    "ExecuteTime": {
     "end_time": "2024-05-09T11:34:33.542720300Z",
     "start_time": "2024-05-09T11:34:33.509831600Z"
    }
   },
   "id": "24fb164f275a79e7",
   "execution_count": 5
  }
 ],
 "metadata": {
  "kernelspec": {
   "display_name": "Python 3",
   "language": "python",
   "name": "python3"
  },
  "language_info": {
   "codemirror_mode": {
    "name": "ipython",
    "version": 2
   },
   "file_extension": ".py",
   "mimetype": "text/x-python",
   "name": "python",
   "nbconvert_exporter": "python",
   "pygments_lexer": "ipython2",
   "version": "2.7.6"
  }
 },
 "nbformat": 4,
 "nbformat_minor": 5
}
