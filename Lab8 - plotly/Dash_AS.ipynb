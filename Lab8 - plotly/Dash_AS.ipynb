{
 "cells": [
  {
   "cell_type": "code",
   "execution_count": 1,
   "id": "initial_id",
   "metadata": {
    "collapsed": true,
    "ExecuteTime": {
     "end_time": "2024-04-24T14:22:59.502317300Z",
     "start_time": "2024-04-24T14:22:58.900608400Z"
    }
   },
   "outputs": [
    {
     "name": "stderr",
     "output_type": "stream",
     "text": [
      "C:\\Users\\53623\\AppData\\Local\\Temp\\ipykernel_12460\\3371525600.py:2: UserWarning: \n",
      "The dash_core_components package is deprecated. Please replace\n",
      "`import dash_core_components as dcc` with `from dash import dcc`\n",
      "  import dash_core_components as dcc\n"
     ]
    }
   ],
   "source": [
    "import dash\n",
    "import dash_core_components as dcc\n",
    "import plotly.express as px\n",
    "import plotly.graph_objects as go\n",
    "from dash import html\n",
    "from dash.dependencies import Input, Output"
   ]
  },
  {
   "cell_type": "code",
   "outputs": [],
   "source": [
    "app = dash.Dash()\n",
    "df = px.data.stocks()\n",
    "\n",
    "def stock_prices():\n",
    "  fig = go.Figure([go.Scatter(x=df['date'], y=df['GOOG'], line=dict(color='firebrick', width=4), name='Google')])\n",
    "  fig.update_layout(title='Prices over time', xaxis_title='Dates', yaxis_title='Prices')\n",
    "  return fig\n",
    "\n",
    "app.layout = html.Div(id='parent', children=[\n",
    "        html.H1(id='H1', children='Styling using html components', style={'textAlign':'center', 'marginTop':40, 'marginBottom':40}),\n",
    "        dcc.Graph(id='line_plot', figure=stock_prices())\n",
    "    ])"
   ],
   "metadata": {
    "collapsed": false,
    "ExecuteTime": {
     "end_time": "2024-04-24T14:22:59.769654700Z",
     "start_time": "2024-04-24T14:22:59.503744900Z"
    }
   },
   "id": "f1a811184001322b",
   "execution_count": 2
  },
  {
   "cell_type": "code",
   "outputs": [
    {
     "data": {
      "text/plain": "Dropdown(options=[{'label': 'Google', 'value': 'GOOG'}, {'label': 'Apple', 'value': 'AAPL'}, {'label': 'Amazon', 'value': 'AMZN'}], value='GOOGL', id='dropdown')"
     },
     "execution_count": 3,
     "metadata": {},
     "output_type": "execute_result"
    }
   ],
   "source": [
    "dcc.Dropdown(\n",
    "    id='dropdown',\n",
    "    options=[\n",
    "        {'label': 'Google', 'value':'GOOG'},\n",
    "        {'label': 'Apple', 'value':'AAPL'},\n",
    "        {'label': 'Amazon', 'value':'AMZN'},\n",
    "        ],\n",
    "        value = 'GOOGL'\n",
    ")"
   ],
   "metadata": {
    "collapsed": false,
    "ExecuteTime": {
     "end_time": "2024-04-24T14:22:59.779904Z",
     "start_time": "2024-04-24T14:22:59.772028400Z"
    }
   },
   "id": "bda94fdcd309f33a",
   "execution_count": 3
  },
  {
   "cell_type": "code",
   "outputs": [],
   "source": [
    "@app.callback(Output(component_id='line_plot', component_property= 'figure'),\n",
    "              [Input(component_id='dropdown', component_property= 'value')])\n",
    "def graph_update(dropdown_value):\n",
    "    print(dropdown_value)\n",
    "    fig = go.Figure([go.Scatter(x=df['date'], y=df['{}'.format(dropdown_value)],\n",
    "                                line = dict(color='firebrick', width=4))\n",
    "                    ])\n",
    "    fig.update_layout(title='Stock prices over time',\n",
    "                      xaxis_title='Dates',\n",
    "                      yaxis_title='Prices')\n",
    "    return fig"
   ],
   "metadata": {
    "collapsed": false,
    "ExecuteTime": {
     "end_time": "2024-04-24T14:22:59.785254400Z",
     "start_time": "2024-04-24T14:22:59.778814400Z"
    }
   },
   "id": "8b643a47c0c6ead8",
   "execution_count": 4
  },
  {
   "cell_type": "code",
   "outputs": [
    {
     "data": {
      "text/plain": "<IPython.lib.display.IFrame at 0x1fd30583a90>",
      "text/html": "\n        <iframe\n            width=\"100%\"\n            height=\"650\"\n            src=\"http://127.0.0.1:8050/\"\n            frameborder=\"0\"\n            allowfullscreen\n            \n        ></iframe>\n        "
     },
     "metadata": {},
     "output_type": "display_data"
    }
   ],
   "source": [
    "if __name__ == '__main__':\n",
    "    app.run_server()"
   ],
   "metadata": {
    "collapsed": false,
    "ExecuteTime": {
     "end_time": "2024-04-24T14:22:59.817618Z",
     "start_time": "2024-04-24T14:22:59.787458500Z"
    }
   },
   "id": "24fb164f275a79e7",
   "execution_count": 5
  }
 ],
 "metadata": {
  "kernelspec": {
   "display_name": "Python 3",
   "language": "python",
   "name": "python3"
  },
  "language_info": {
   "codemirror_mode": {
    "name": "ipython",
    "version": 2
   },
   "file_extension": ".py",
   "mimetype": "text/x-python",
   "name": "python",
   "nbconvert_exporter": "python",
   "pygments_lexer": "ipython2",
   "version": "2.7.6"
  }
 },
 "nbformat": 4,
 "nbformat_minor": 5
}
