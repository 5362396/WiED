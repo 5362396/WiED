{
 "cells": [
  {
   "cell_type": "code",
   "id": "initial_id",
   "metadata": {
    "collapsed": true,
    "ExecuteTime": {
     "end_time": "2024-05-21T12:07:27.965672Z",
     "start_time": "2024-05-21T12:07:27.955663Z"
    }
   },
   "source": [
    "from d3blocks import D3Blocks\n",
    "\n",
    "d3 = D3Blocks()\n",
    "\n",
    "df = d3.import_example('energy')\n",
    "\n",
    "print(df)"
   ],
   "outputs": [
    {
     "name": "stderr",
     "output_type": "stream",
     "text": [
      "[d3blocks] >INFO> Cleaning edge_properties and config parameters..\n",
      "[d3blocks] >INFO> Import dataset [energy]\n"
     ]
    },
    {
     "name": "stdout",
     "output_type": "stream",
     "text": [
      "                     source            target   weight\n",
      "0      Agricultural 'waste'    Bio-conversion  124.729\n",
      "1            Bio-conversion            Liquid    0.597\n",
      "2            Bio-conversion            Losses   26.862\n",
      "3            Bio-conversion             Solid  280.322\n",
      "4            Bio-conversion               Gas   81.144\n",
      "..                      ...               ...      ...\n",
      "63       Thermal generation  District heating   79.329\n",
      "64                    Tidal  Electricity grid    9.452\n",
      "65  UK land based bioenergy    Bio-conversion  182.010\n",
      "66                     Wave  Electricity grid   19.013\n",
      "67                     Wind  Electricity grid  289.366\n",
      "\n",
      "[68 rows x 3 columns]\n"
     ]
    }
   ],
   "execution_count": 9
  },
  {
   "cell_type": "code",
   "source": [
    "d3.d3graph(df, showfig=False, filepath='./network_graph.html')\n",
    "\n",
    "d3.D3graph.set_node_properties(color='cluster', cmap='viridis')\n",
    "\n",
    "d3.D3graph.node_properties['Thermal_generation']['size']=40\n",
    "d3.D3graph.node_properties['Thermal_generation']['edge_color']= '#eee000'\n",
    "d3.D3graph.node_properties['Thermal_generation']['edge_size']= 2\n",
    "\n",
    "d3.D3graph.edge_properties['Solar', 'Solar_Thermal']['color']= '#eee000'\n",
    "d3.D3graph.edge_properties['Solar', 'Solar_Thermal']['weight_scaled']= 8\n",
    "\n",
    "d3.D3graph.show(filepath='./network_graph.html')"
   ],
   "metadata": {
    "collapsed": false,
    "ExecuteTime": {
     "end_time": "2024-05-21T12:07:28.676356Z",
     "start_time": "2024-05-21T12:07:27.966673Z"
    }
   },
   "id": "c8852a0b99db204e",
   "outputs": [
    {
     "name": "stderr",
     "output_type": "stream",
     "text": [
      "[d3blocks] >INFO> Converting source-target into adjacency matrix..\n",
      "[d3blocks] >INFO> Making the matrix symmetric..\n",
      "[d3blocks] >INFO> Set directed=True to see the markers!\n",
      "[d3blocks] >INFO> Keep only edges with weight>0\n",
      "[d3blocks] >INFO> Converting source-target into adjacency matrix..\n",
      "[d3blocks] >INFO> Making the matrix symmetric..\n",
      "[d3blocks] >INFO> Converting adjacency matrix into source-target..\n",
      "[d3blocks] >INFO> Number of unique nodes: 48\n",
      "[d3blocks] >INFO> Slider range is set to [0, 840]\n",
      "[d3blocks] >INFO> Write to path: [C:\\Users\\MSI\\PycharmProjects\\WiED\\Lab11 - d3blocks\\network_graph.html]\n",
      "[d3blocks] >INFO> File already exists and will be overwritten: [C:\\Users\\MSI\\PycharmProjects\\WiED\\Lab11 - d3blocks\\network_graph.html]\n",
      "[d3blocks] >INFO> Converting adjacency matrix into source-target..\n",
      "[d3blocks] >INFO> Number of unique nodes: 48\n",
      "[d3blocks] >INFO> Slider range is set to [0, 840]\n",
      "[d3blocks] >INFO> Write to path: [C:\\Users\\MSI\\PycharmProjects\\WiED\\Lab11 - d3blocks\\network_graph.html]\n",
      "[d3blocks] >INFO> File already exists and will be overwritten: [C:\\Users\\MSI\\PycharmProjects\\WiED\\Lab11 - d3blocks\\network_graph.html]\n"
     ]
    }
   ],
   "execution_count": 10
  },
  {
   "cell_type": "code",
   "source": [
    "df = d3.import_example('stormofswords')\n",
    "\n",
    "d3.sankey(df, link={\"color\": \"source-target\"}, filepath='./sankey.html')"
   ],
   "metadata": {
    "collapsed": false,
    "ExecuteTime": {
     "end_time": "2024-05-21T12:07:29.486653Z",
     "start_time": "2024-05-21T12:07:28.677357Z"
    }
   },
   "id": "86d7c6f134a14918",
   "outputs": [
    {
     "name": "stderr",
     "output_type": "stream",
     "text": [
      "[d3blocks] >INFO> Import dataset [stormofswords]\n",
      "[d3blocks] >INFO> Cleaning edge_properties and config parameters..\n",
      "[d3blocks] >INFO> Initializing [Sankey]\n",
      "[d3blocks] >INFO> filepath is set to [C:\\Users\\MSI\\PycharmProjects\\WiED\\Lab11 - d3blocks\\sankey.html]\n",
      "[d3blocks] >INFO> Convert to DataFrame.\n",
      "[d3blocks] >INFO> Node properties are set.\n",
      "[d3blocks] >INFO> Edge properties are set.\n",
      "c:\\users\\msi\\pycharmprojects\\wied\\.venv\\lib\\site-packages\\d3blocks\\sankey\\Sankey.py:189: FutureWarning: Series.__getitem__ treating keys as positions is deprecated. In a future version, integer keys will always be treated as labels (consistent with DataFrame behavior). To access a value by position, use `ser.iloc[pos]`\n",
      "  config['fontsize'] = kwargs['node_properties']['fontsize'][0]\n",
      "[d3blocks] >INFO> File already exists and will be overwritten: [C:\\Users\\MSI\\PycharmProjects\\WiED\\Lab11 - d3blocks\\sankey.html]\n",
      "[d3blocks] >INFO> Open browser: C:\\Users\\MSI\\PycharmProjects\\WiED\\Lab11 - d3blocks\\sankey.html\n"
     ]
    }
   ],
   "execution_count": 11
  },
  {
   "cell_type": "code",
   "source": [
    "d3.chord(df, filepath='./chord.html', cmap='turbo')"
   ],
   "metadata": {
    "collapsed": false,
    "ExecuteTime": {
     "end_time": "2024-05-21T12:07:30.331433Z",
     "start_time": "2024-05-21T12:07:29.487653Z"
    }
   },
   "id": "1a1ea58d4bdf002c",
   "outputs": [
    {
     "name": "stderr",
     "output_type": "stream",
     "text": [
      "[d3blocks] >INFO> Cleaning edge_properties and config parameters..\n",
      "[d3blocks] >INFO> Initializing [Chord]\n",
      "[d3blocks] >INFO> filepath is set to [C:\\Users\\MSI\\PycharmProjects\\WiED\\Lab11 - d3blocks\\chord.html]\n",
      "[d3blocks] >INFO> Convert to DataFrame.\n",
      "[d3blocks] >INFO> Node properties are set.\n",
      "[d3blocks] >INFO> Set edge-opacity based on the [source] node-opacity.\n",
      "[d3blocks] >INFO> Set edge-colors based on the [source] node-color.\n",
      "[d3blocks] >INFO> Edge properties are set.\n",
      "[d3blocks] >INFO> File already exists and will be overwritten: [C:\\Users\\MSI\\PycharmProjects\\WiED\\Lab11 - d3blocks\\chord.html]\n",
      "[d3blocks] >INFO> Open browser: C:\\Users\\MSI\\PycharmProjects\\WiED\\Lab11 - d3blocks\\chord.html\n"
     ]
    }
   ],
   "execution_count": 12
  },
  {
   "cell_type": "code",
   "source": [
    "df = d3.import_example('climate')\n",
    "\n",
    "df.head()"
   ],
   "metadata": {
    "collapsed": false,
    "ExecuteTime": {
     "end_time": "2024-05-21T12:07:30.347448Z",
     "start_time": "2024-05-21T12:07:30.332434Z"
    }
   },
   "id": "3dc5c7448eebae02",
   "outputs": [
    {
     "name": "stderr",
     "output_type": "stream",
     "text": [
      "[d3blocks] >INFO> Extracting files..\n",
      "[d3blocks] >INFO> Import dataset: [climate]\n"
     ]
    },
    {
     "data": {
      "text/plain": [
       "         date   meantemp   humidity  wind_speed  meanpressure\n",
       "0  2017-01-01  15.913043  85.869565    2.743478     59.000000\n",
       "1  2017-01-02  18.500000  77.222222    2.894444   1018.277778\n",
       "2  2017-01-03  17.111111  81.888889    4.016667   1018.333333\n",
       "3  2017-01-04  18.700000  70.050000    4.545000   1015.700000\n",
       "4  2017-01-05  18.388889  74.944444    3.300000   1014.333333"
      ],
      "text/html": [
       "<div>\n",
       "<style scoped>\n",
       "    .dataframe tbody tr th:only-of-type {\n",
       "        vertical-align: middle;\n",
       "    }\n",
       "\n",
       "    .dataframe tbody tr th {\n",
       "        vertical-align: top;\n",
       "    }\n",
       "\n",
       "    .dataframe thead th {\n",
       "        text-align: right;\n",
       "    }\n",
       "</style>\n",
       "<table border=\"1\" class=\"dataframe\">\n",
       "  <thead>\n",
       "    <tr style=\"text-align: right;\">\n",
       "      <th></th>\n",
       "      <th>date</th>\n",
       "      <th>meantemp</th>\n",
       "      <th>humidity</th>\n",
       "      <th>wind_speed</th>\n",
       "      <th>meanpressure</th>\n",
       "    </tr>\n",
       "  </thead>\n",
       "  <tbody>\n",
       "    <tr>\n",
       "      <th>0</th>\n",
       "      <td>2017-01-01</td>\n",
       "      <td>15.913043</td>\n",
       "      <td>85.869565</td>\n",
       "      <td>2.743478</td>\n",
       "      <td>59.000000</td>\n",
       "    </tr>\n",
       "    <tr>\n",
       "      <th>1</th>\n",
       "      <td>2017-01-02</td>\n",
       "      <td>18.500000</td>\n",
       "      <td>77.222222</td>\n",
       "      <td>2.894444</td>\n",
       "      <td>1018.277778</td>\n",
       "    </tr>\n",
       "    <tr>\n",
       "      <th>2</th>\n",
       "      <td>2017-01-03</td>\n",
       "      <td>17.111111</td>\n",
       "      <td>81.888889</td>\n",
       "      <td>4.016667</td>\n",
       "      <td>1018.333333</td>\n",
       "    </tr>\n",
       "    <tr>\n",
       "      <th>3</th>\n",
       "      <td>2017-01-04</td>\n",
       "      <td>18.700000</td>\n",
       "      <td>70.050000</td>\n",
       "      <td>4.545000</td>\n",
       "      <td>1015.700000</td>\n",
       "    </tr>\n",
       "    <tr>\n",
       "      <th>4</th>\n",
       "      <td>2017-01-05</td>\n",
       "      <td>18.388889</td>\n",
       "      <td>74.944444</td>\n",
       "      <td>3.300000</td>\n",
       "      <td>1014.333333</td>\n",
       "    </tr>\n",
       "  </tbody>\n",
       "</table>\n",
       "</div>"
      ]
     },
     "execution_count": 13,
     "metadata": {},
     "output_type": "execute_result"
    }
   ],
   "execution_count": 13
  },
  {
   "cell_type": "code",
   "source": [
    "d3.timeseries(df, datetime='date', dt_format='%Y-%m-%d', fontsize=12, filepath='./timeseries.html', cmap='turbo')"
   ],
   "metadata": {
    "collapsed": false,
    "ExecuteTime": {
     "end_time": "2024-05-21T12:07:31.153725Z",
     "start_time": "2024-05-21T12:07:30.348450Z"
    }
   },
   "id": "1cfd311bb17373ec",
   "outputs": [
    {
     "name": "stderr",
     "output_type": "stream",
     "text": [
      "[d3blocks] >INFO> Initializing [Timeseries]\n",
      "[d3blocks] >INFO> filepath is set to [C:\\Users\\MSI\\PycharmProjects\\WiED\\Lab11 - d3blocks\\timeseries.html]\n",
      "[d3blocks] >INFO> Convert to DataFrame.\n",
      "[d3blocks] >INFO> Node properties are set.\n",
      "[d3blocks] >INFO> Edge properties are set.\n",
      "[d3blocks] >INFO> File already exists and will be overwritten: [C:\\Users\\MSI\\PycharmProjects\\WiED\\Lab11 - d3blocks\\timeseries.html]\n",
      "[d3blocks] >INFO> Open browser: C:\\Users\\MSI\\PycharmProjects\\WiED\\Lab11 - d3blocks\\timeseries.html\n"
     ]
    }
   ],
   "execution_count": 14
  },
  {
   "cell_type": "code",
   "source": [
    "df = d3.import_example('random_time', n=5000, c=100, date_start='1-1-2000 00:10:15', date_stop='12-1-2000 23:59:59')\n",
    "\n",
    "d3.movingbubbles(df,\n",
    "                datetime='datetime',\n",
    "                state='state',\n",
    "                sample_id='sample_id',\n",
    "                standardize=None,\n",
    "                speed={'fast': 100, 'medium': 200, 'slow': 300},\n",
    "                cmap='Set2',\n",
    "                filepath='./moving_bubbles.html')"
   ],
   "metadata": {
    "collapsed": false,
    "ExecuteTime": {
     "end_time": "2024-05-21T12:07:33.714959Z",
     "start_time": "2024-05-21T12:07:31.154726Z"
    }
   },
   "id": "ed9aae2f31bb9231",
   "outputs": [
    {
     "name": "stderr",
     "output_type": "stream",
     "text": [
      "c:\\users\\msi\\pycharmprojects\\wied\\.venv\\lib\\site-packages\\d3blocks\\movingbubbles\\Movingbubbles.py:550: FutureWarning: ChainedAssignmentError: behaviour will change in pandas 3.0!\n",
      "You are setting values through chained assignment. Currently this works in certain cases, but when using Copy-on-Write (which will become the default behaviour in pandas 3.0) this will never work to update the original DataFrame or Series, because the intermediate object on which we are setting values will behave as a copy.\n",
      "A typical example is when you are setting values in a column of a DataFrame, like:\n",
      "\n",
      "df[\"col\"][row_indexer] = value\n",
      "\n",
      "Use `df.loc[row_indexer, \"col\"] = values` instead, to perform the assignment in a single step and ensure this keeps updating the original `df`.\n",
      "\n",
      "See the caveats in the documentation: https://pandas.pydata.org/pandas-docs/stable/user_guide/indexing.html#returning-a-view-versus-a-copy\n",
      "\n",
      "  df['sample_id'].iloc[i] = sample_id\n",
      "c:\\users\\msi\\pycharmprojects\\wied\\.venv\\lib\\site-packages\\d3blocks\\movingbubbles\\Movingbubbles.py:554: FutureWarning: ChainedAssignmentError: behaviour will change in pandas 3.0!\n",
      "You are setting values through chained assignment. Currently this works in certain cases, but when using Copy-on-Write (which will become the default behaviour in pandas 3.0) this will never work to update the original DataFrame or Series, because the intermediate object on which we are setting values will behave as a copy.\n",
      "A typical example is when you are setting values in a column of a DataFrame, like:\n",
      "\n",
      "df[\"col\"][row_indexer] = value\n",
      "\n",
      "Use `df.loc[row_indexer, \"col\"] = values` instead, to perform the assignment in a single step and ensure this keeps updating the original `df`.\n",
      "\n",
      "See the caveats in the documentation: https://pandas.pydata.org/pandas-docs/stable/user_guide/indexing.html#returning-a-view-versus-a-copy\n",
      "\n",
      "  df['state'].iloc[i] = location_types[idx]\n",
      "c:\\users\\msi\\pycharmprojects\\wied\\.venv\\lib\\site-packages\\d3blocks\\movingbubbles\\Movingbubbles.py:555: FutureWarning: ChainedAssignmentError: behaviour will change in pandas 3.0!\n",
      "You are setting values through chained assignment. Currently this works in certain cases, but when using Copy-on-Write (which will become the default behaviour in pandas 3.0) this will never work to update the original DataFrame or Series, because the intermediate object on which we are setting values will behave as a copy.\n",
      "A typical example is when you are setting values in a column of a DataFrame, like:\n",
      "\n",
      "df[\"col\"][row_indexer] = value\n",
      "\n",
      "Use `df.loc[row_indexer, \"col\"] = values` instead, to perform the assignment in a single step and ensure this keeps updating the original `df`.\n",
      "\n",
      "See the caveats in the documentation: https://pandas.pydata.org/pandas-docs/stable/user_guide/indexing.html#returning-a-view-versus-a-copy\n",
      "\n",
      "  df['datetime'].iloc[i] = random_date(date_start, date_stop, random.random(), dt_format=dt_format)\n",
      "c:\\users\\msi\\pycharmprojects\\wied\\.venv\\lib\\site-packages\\d3blocks\\movingbubbles\\Movingbubbles.py:559: FutureWarning: ChainedAssignmentError: behaviour will change in pandas 3.0!\n",
      "You are setting values through chained assignment. Currently this works in certain cases, but when using Copy-on-Write (which will become the default behaviour in pandas 3.0) this will never work to update the original DataFrame or Series, because the intermediate object on which we are setting values will behave as a copy.\n",
      "A typical example is when you are setting values in a column of a DataFrame, like:\n",
      "\n",
      "df[\"col\"][row_indexer] = value\n",
      "\n",
      "Use `df.loc[row_indexer, \"col\"] = values` instead, to perform the assignment in a single step and ensure this keeps updating the original `df`.\n",
      "\n",
      "See the caveats in the documentation: https://pandas.pydata.org/pandas-docs/stable/user_guide/indexing.html#returning-a-view-versus-a-copy\n",
      "\n",
      "  df['sample_id'].iloc[i] = sample_id\n",
      "c:\\users\\msi\\pycharmprojects\\wied\\.venv\\lib\\site-packages\\d3blocks\\movingbubbles\\Movingbubbles.py:560: FutureWarning: ChainedAssignmentError: behaviour will change in pandas 3.0!\n",
      "You are setting values through chained assignment. Currently this works in certain cases, but when using Copy-on-Write (which will become the default behaviour in pandas 3.0) this will never work to update the original DataFrame or Series, because the intermediate object on which we are setting values will behave as a copy.\n",
      "A typical example is when you are setting values in a column of a DataFrame, like:\n",
      "\n",
      "df[\"col\"][row_indexer] = value\n",
      "\n",
      "Use `df.loc[row_indexer, \"col\"] = values` instead, to perform the assignment in a single step and ensure this keeps updating the original `df`.\n",
      "\n",
      "See the caveats in the documentation: https://pandas.pydata.org/pandas-docs/stable/user_guide/indexing.html#returning-a-view-versus-a-copy\n",
      "\n",
      "  df['state'].iloc[i] = location_types[idx_middle]\n",
      "c:\\users\\msi\\pycharmprojects\\wied\\.venv\\lib\\site-packages\\d3blocks\\movingbubbles\\Movingbubbles.py:561: FutureWarning: ChainedAssignmentError: behaviour will change in pandas 3.0!\n",
      "You are setting values through chained assignment. Currently this works in certain cases, but when using Copy-on-Write (which will become the default behaviour in pandas 3.0) this will never work to update the original DataFrame or Series, because the intermediate object on which we are setting values will behave as a copy.\n",
      "A typical example is when you are setting values in a column of a DataFrame, like:\n",
      "\n",
      "df[\"col\"][row_indexer] = value\n",
      "\n",
      "Use `df.loc[row_indexer, \"col\"] = values` instead, to perform the assignment in a single step and ensure this keeps updating the original `df`.\n",
      "\n",
      "See the caveats in the documentation: https://pandas.pydata.org/pandas-docs/stable/user_guide/indexing.html#returning-a-view-versus-a-copy\n",
      "\n",
      "  df['datetime'].iloc[i] = random_date(df['datetime'].iloc[i-1], date_stop, random.random(), dt_format=dt_format)\n",
      "c:\\users\\msi\\pycharmprojects\\wied\\.venv\\lib\\site-packages\\d3blocks\\movingbubbles\\Movingbubbles.py:566: FutureWarning: ChainedAssignmentError: behaviour will change in pandas 3.0!\n",
      "You are setting values through chained assignment. Currently this works in certain cases, but when using Copy-on-Write (which will become the default behaviour in pandas 3.0) this will never work to update the original DataFrame or Series, because the intermediate object on which we are setting values will behave as a copy.\n",
      "A typical example is when you are setting values in a column of a DataFrame, like:\n",
      "\n",
      "df[\"col\"][row_indexer] = value\n",
      "\n",
      "Use `df.loc[row_indexer, \"col\"] = values` instead, to perform the assignment in a single step and ensure this keeps updating the original `df`.\n",
      "\n",
      "See the caveats in the documentation: https://pandas.pydata.org/pandas-docs/stable/user_guide/indexing.html#returning-a-view-versus-a-copy\n",
      "\n",
      "  df['sample_id'].iloc[i] = sample_id\n",
      "c:\\users\\msi\\pycharmprojects\\wied\\.venv\\lib\\site-packages\\d3blocks\\movingbubbles\\Movingbubbles.py:571: FutureWarning: ChainedAssignmentError: behaviour will change in pandas 3.0!\n",
      "You are setting values through chained assignment. Currently this works in certain cases, but when using Copy-on-Write (which will become the default behaviour in pandas 3.0) this will never work to update the original DataFrame or Series, because the intermediate object on which we are setting values will behave as a copy.\n",
      "A typical example is when you are setting values in a column of a DataFrame, like:\n",
      "\n",
      "df[\"col\"][row_indexer] = value\n",
      "\n",
      "Use `df.loc[row_indexer, \"col\"] = values` instead, to perform the assignment in a single step and ensure this keeps updating the original `df`.\n",
      "\n",
      "See the caveats in the documentation: https://pandas.pydata.org/pandas-docs/stable/user_guide/indexing.html#returning-a-view-versus-a-copy\n",
      "\n",
      "  df['state'].iloc[i] = location_types[idx]\n",
      "c:\\users\\msi\\pycharmprojects\\wied\\.venv\\lib\\site-packages\\d3blocks\\movingbubbles\\Movingbubbles.py:572: FutureWarning: ChainedAssignmentError: behaviour will change in pandas 3.0!\n",
      "You are setting values through chained assignment. Currently this works in certain cases, but when using Copy-on-Write (which will become the default behaviour in pandas 3.0) this will never work to update the original DataFrame or Series, because the intermediate object on which we are setting values will behave as a copy.\n",
      "A typical example is when you are setting values in a column of a DataFrame, like:\n",
      "\n",
      "df[\"col\"][row_indexer] = value\n",
      "\n",
      "Use `df.loc[row_indexer, \"col\"] = values` instead, to perform the assignment in a single step and ensure this keeps updating the original `df`.\n",
      "\n",
      "See the caveats in the documentation: https://pandas.pydata.org/pandas-docs/stable/user_guide/indexing.html#returning-a-view-versus-a-copy\n",
      "\n",
      "  df['datetime'].iloc[i] = random_date(df['datetime'].iloc[i-1], date_stop, random.random(), dt_format=dt_format)\n",
      "[d3blocks] >INFO> Cleaning edge_properties and config parameters..\n",
      "[d3blocks] >INFO> Initializing [Movingbubbles]\n",
      "[d3blocks] >INFO> filepath is set to [C:\\Users\\MSI\\PycharmProjects\\WiED\\Lab11 - d3blocks\\moving_bubbles.html]\n",
      "[d3blocks] >INFO> Convert to DataFrame.\n",
      "[d3blocks] >INFO> Node properties are set.\n",
      "[d3blocks] >INFO> Standardizing input dataframe using method: [None].\n",
      "[d3blocks] >INFO> Set all nodes to size: 5\n",
      "[d3blocks] >WARNING> Colormap [Set1] can not create [101] unique colors! Available unique colors: [9].\n",
      "[d3blocks] >INFO> Edge properties are set.\n",
      "[d3blocks] >INFO> File already exists and will be overwritten: [C:\\Users\\MSI\\PycharmProjects\\WiED\\Lab11 - d3blocks\\moving_bubbles.html]\n",
      "[d3blocks] >INFO> Open browser: C:\\Users\\MSI\\PycharmProjects\\WiED\\Lab11 - d3blocks\\moving_bubbles.html\n"
     ]
    }
   ],
   "execution_count": 15
  },
  {
   "cell_type": "code",
   "source": [
    "img_before = 'https://erdogant.github.io/datasets/images/unsplash_before.jpg'\n",
    "img_after = 'https://erdogant.github.io/datasets/images/unsplash_after.jpg'\n",
    "\n",
    "d3.imageslider(img_before, img_after, filepath=\"./imageslider.html\")"
   ],
   "metadata": {
    "collapsed": false,
    "ExecuteTime": {
     "end_time": "2024-05-21T12:07:34.535764Z",
     "start_time": "2024-05-21T12:07:33.715960Z"
    }
   },
   "id": "eb3e0f972cb70d34",
   "outputs": [
    {
     "name": "stderr",
     "output_type": "stream",
     "text": [
      "[d3blocks] >INFO> filepath is set to [C:\\Users\\MSI\\PycharmProjects\\WiED\\Lab11 - d3blocks\\imageslider.html]\n",
      "[d3blocks] >INFO> img_before: https://erdogant.github.io/datasets/images/unsplash_before.jpg\n",
      "[d3blocks] >INFO> img_after: https://erdogant.github.io/datasets/images/unsplash_after.jpg\n",
      "[d3blocks] >INFO> File already exists and will be overwritten: [C:\\Users\\MSI\\PycharmProjects\\WiED\\Lab11 - d3blocks\\imageslider.html]\n",
      "[d3blocks] >INFO> Open browser: C:\\Users\\MSI\\PycharmProjects\\WiED\\Lab11 - d3blocks\\imageslider.html\n"
     ]
    }
   ],
   "execution_count": 16
  },
  {
   "cell_type": "code",
   "source": [
    "df = d3.import_example('cancer')\n",
    "\n",
    "df.head()"
   ],
   "metadata": {
    "collapsed": false,
    "ExecuteTime": {
     "end_time": "2024-05-21T12:07:34.849061Z",
     "start_time": "2024-05-21T12:07:34.537766Z"
    }
   },
   "id": "a7e77c6c0290e7d9",
   "outputs": [
    {
     "name": "stderr",
     "output_type": "stream",
     "text": [
      "[d3blocks] >INFO> Import dataset [cancer]\n",
      "[d3blocks] >INFO> Downloading [cancer_dataset.zip] dataset from github source..\n"
     ]
    },
    {
     "data": {
      "text/plain": [
       "       tsneX      tsneY   age     sex  survival_months  death_indicator labx  \\\n",
       "0  37.204296  24.162813  58.0    male        44.517454              0.0  acc   \n",
       "1  37.093090  23.423557  44.0  female        55.096509              0.0  acc   \n",
       "2  36.806297  23.444910  23.0  female        63.802875              1.0  acc   \n",
       "3  38.067886  24.411770  30.0    male        11.991786              0.0  acc   \n",
       "4  36.791195  21.715324  29.0  female        79.770021              1.0  acc   \n",
       "\n",
       "         PC1        PC2  \n",
       "0  49.233458  14.496507  \n",
       "1  46.327987  14.464466  \n",
       "2  46.567928  13.480130  \n",
       "3  63.624679   1.874059  \n",
       "4  41.746708  37.533621  "
      ],
      "text/html": [
       "<div>\n",
       "<style scoped>\n",
       "    .dataframe tbody tr th:only-of-type {\n",
       "        vertical-align: middle;\n",
       "    }\n",
       "\n",
       "    .dataframe tbody tr th {\n",
       "        vertical-align: top;\n",
       "    }\n",
       "\n",
       "    .dataframe thead th {\n",
       "        text-align: right;\n",
       "    }\n",
       "</style>\n",
       "<table border=\"1\" class=\"dataframe\">\n",
       "  <thead>\n",
       "    <tr style=\"text-align: right;\">\n",
       "      <th></th>\n",
       "      <th>tsneX</th>\n",
       "      <th>tsneY</th>\n",
       "      <th>age</th>\n",
       "      <th>sex</th>\n",
       "      <th>survival_months</th>\n",
       "      <th>death_indicator</th>\n",
       "      <th>labx</th>\n",
       "      <th>PC1</th>\n",
       "      <th>PC2</th>\n",
       "    </tr>\n",
       "  </thead>\n",
       "  <tbody>\n",
       "    <tr>\n",
       "      <th>0</th>\n",
       "      <td>37.204296</td>\n",
       "      <td>24.162813</td>\n",
       "      <td>58.0</td>\n",
       "      <td>male</td>\n",
       "      <td>44.517454</td>\n",
       "      <td>0.0</td>\n",
       "      <td>acc</td>\n",
       "      <td>49.233458</td>\n",
       "      <td>14.496507</td>\n",
       "    </tr>\n",
       "    <tr>\n",
       "      <th>1</th>\n",
       "      <td>37.093090</td>\n",
       "      <td>23.423557</td>\n",
       "      <td>44.0</td>\n",
       "      <td>female</td>\n",
       "      <td>55.096509</td>\n",
       "      <td>0.0</td>\n",
       "      <td>acc</td>\n",
       "      <td>46.327987</td>\n",
       "      <td>14.464466</td>\n",
       "    </tr>\n",
       "    <tr>\n",
       "      <th>2</th>\n",
       "      <td>36.806297</td>\n",
       "      <td>23.444910</td>\n",
       "      <td>23.0</td>\n",
       "      <td>female</td>\n",
       "      <td>63.802875</td>\n",
       "      <td>1.0</td>\n",
       "      <td>acc</td>\n",
       "      <td>46.567928</td>\n",
       "      <td>13.480130</td>\n",
       "    </tr>\n",
       "    <tr>\n",
       "      <th>3</th>\n",
       "      <td>38.067886</td>\n",
       "      <td>24.411770</td>\n",
       "      <td>30.0</td>\n",
       "      <td>male</td>\n",
       "      <td>11.991786</td>\n",
       "      <td>0.0</td>\n",
       "      <td>acc</td>\n",
       "      <td>63.624679</td>\n",
       "      <td>1.874059</td>\n",
       "    </tr>\n",
       "    <tr>\n",
       "      <th>4</th>\n",
       "      <td>36.791195</td>\n",
       "      <td>21.715324</td>\n",
       "      <td>29.0</td>\n",
       "      <td>female</td>\n",
       "      <td>79.770021</td>\n",
       "      <td>1.0</td>\n",
       "      <td>acc</td>\n",
       "      <td>41.746708</td>\n",
       "      <td>37.533621</td>\n",
       "    </tr>\n",
       "  </tbody>\n",
       "</table>\n",
       "</div>"
      ]
     },
     "execution_count": 17,
     "metadata": {},
     "output_type": "execute_result"
    }
   ],
   "execution_count": 17
  },
  {
   "cell_type": "code",
   "source": [
    "tooltip = df['labx'].values + ' <br /> Survival: ' + df['survival_months'].astype(str).str[0:4].values\n",
    "size = df['survival_months'].fillna(1).values / 10\n",
    "\n",
    "d3.scatter(df['tsneX'].values,\n",
    "           df['tsneY'].values,\n",
    "           x1=df['PC1'].values,\n",
    "           y1=df['PC2'].values,\n",
    "           scale=True,\n",
    "           label_radio=['tSNE', 'PCA'],\n",
    "           size=size,\n",
    "           color=df['labx'].values,\n",
    "           stroke='#eee000',\n",
    "           opacity=0.8,\n",
    "           tooltip=tooltip,\n",
    "           cmap='turbo',\n",
    "           filepath='./scatter_plot.html')"
   ],
   "metadata": {
    "collapsed": false,
    "ExecuteTime": {
     "end_time": "2024-05-21T12:07:35.848207Z",
     "start_time": "2024-05-21T12:07:34.850062Z"
    }
   },
   "id": "8d3fee66c0170f82",
   "outputs": [
    {
     "name": "stderr",
     "output_type": "stream",
     "text": [
      "[d3blocks] >INFO> Cleaning edge_properties and config parameters..\n",
      "[d3blocks] >INFO> Initializing [Scatter]\n",
      "[d3blocks] >INFO> filepath is set to [C:\\Users\\MSI\\PycharmProjects\\WiED\\Lab11 - d3blocks\\scatter_plot.html]\n",
      "[d3blocks] >INFO> Scaling xy-coordinates.\n",
      "[d3blocks] >INFO> [12] sizes are <0 and set to 0.\n",
      "[d3blocks] >INFO> Set opacity based on the data density.\n",
      "[d3blocks] >INFO> Edge properties are set.\n",
      "[d3blocks] >INFO> File already exists and will be overwritten: [C:\\Users\\MSI\\PycharmProjects\\WiED\\Lab11 - d3blocks\\scatter_plot.html]\n",
      "[d3blocks] >INFO> Open browser: C:\\Users\\MSI\\PycharmProjects\\WiED\\Lab11 - d3blocks\\scatter_plot.html\n"
     ]
    }
   ],
   "execution_count": 18
  },
  {
   "cell_type": "code",
   "source": [
    "tooltip = df['labx'].values + ' <br /> Survival: ' + df['survival_months'].astype(str).values\n",
    "\n",
    "d3.violin(x=df['labx'].values,\n",
    "          y=df['age'].values,\n",
    "          color=df['labx'].values,\n",
    "          stroke='#eee000',\n",
    "          opacity=0.4,\n",
    "          cmap='turbo',\n",
    "          tooltip=tooltip,\n",
    "          bins=40,\n",
    "          size=df['survival_months'].values / 10,\n",
    "          x_order=['acc', 'kich', 'brca', 'lgg', 'blca', 'coad', 'ov'],\n",
    "          figsize=[None, None],\n",
    "          filepath='./violin.html')"
   ],
   "metadata": {
    "collapsed": false,
    "ExecuteTime": {
     "end_time": "2024-05-21T12:07:36.653159Z",
     "start_time": "2024-05-21T12:07:35.849208Z"
    }
   },
   "id": "afc3db58dd86806",
   "outputs": [
    {
     "name": "stderr",
     "output_type": "stream",
     "text": [
      "[d3blocks] >INFO> Cleaning edge_properties and config parameters..\n",
      "[d3blocks] >INFO> Initializing [Violin]\n",
      "[d3blocks] >INFO> filepath is set to [C:\\Users\\MSI\\PycharmProjects\\WiED\\Lab11 - d3blocks\\violin.html]\n",
      "[d3blocks] >INFO> Removing [564] NaN values.\n",
      "[d3blocks] >INFO> Filter on: [acc|kich|brca|lgg|blca|coad|ov]\n",
      "[d3blocks] >INFO> Number of samples: 1881\n",
      "[d3blocks] >INFO> File already exists and will be overwritten: [C:\\Users\\MSI\\PycharmProjects\\WiED\\Lab11 - d3blocks\\violin.html]\n",
      "[d3blocks] >INFO> Open browser: C:\\Users\\MSI\\PycharmProjects\\WiED\\Lab11 - d3blocks\\violin.html\n"
     ]
    }
   ],
   "execution_count": 19
  },
  {
   "cell_type": "code",
   "source": [
    "d3.particles('Particles', collision=0.25, spacing=12, figsize=[1600, 800], filepath='./particles.html')"
   ],
   "metadata": {
    "collapsed": false,
    "ExecuteTime": {
     "end_time": "2024-05-21T12:07:37.431413Z",
     "start_time": "2024-05-21T12:07:36.654160Z"
    }
   },
   "id": "ca9ab9cb644084a0",
   "outputs": [
    {
     "name": "stderr",
     "output_type": "stream",
     "text": [
      "[d3blocks] >INFO> filepath is set to [C:\\Users\\MSI\\PycharmProjects\\WiED\\Lab11 - d3blocks\\particles.html]\n",
      "[d3blocks] >INFO> File already exists and will be overwritten: [C:\\Users\\MSI\\PycharmProjects\\WiED\\Lab11 - d3blocks\\particles.html]\n",
      "[d3blocks] >INFO> Open browser: C:\\Users\\MSI\\PycharmProjects\\WiED\\Lab11 - d3blocks\\particles.html\n"
     ]
    }
   ],
   "execution_count": 20
  },
  {
   "cell_type": "code",
   "source": [],
   "metadata": {
    "collapsed": false,
    "ExecuteTime": {
     "end_time": "2024-05-21T12:07:37.447427Z",
     "start_time": "2024-05-21T12:07:37.432414Z"
    }
   },
   "id": "16ab936e4970f905",
   "outputs": [],
   "execution_count": 20
  }
 ],
 "metadata": {
  "kernelspec": {
   "display_name": "Python 3",
   "language": "python",
   "name": "python3"
  },
  "language_info": {
   "codemirror_mode": {
    "name": "ipython",
    "version": 2
   },
   "file_extension": ".py",
   "mimetype": "text/x-python",
   "name": "python",
   "nbconvert_exporter": "python",
   "pygments_lexer": "ipython2",
   "version": "2.7.6"
  }
 },
 "nbformat": 4,
 "nbformat_minor": 5
}
